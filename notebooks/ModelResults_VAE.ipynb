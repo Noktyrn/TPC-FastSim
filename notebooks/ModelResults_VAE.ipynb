{
 "cells": [
  {
   "cell_type": "code",
   "execution_count": 1,
   "metadata": {},
   "outputs": [],
   "source": [
    "from pathlib import Path\n",
    "import sys\n",
    "import tensorflow as tf\n",
    "import os"
   ]
  },
  {
   "cell_type": "code",
   "execution_count": 2,
   "metadata": {},
   "outputs": [],
   "source": [
    "current_path = %pwd\n",
    "current_path = Path(current_path)\n",
    "sys.path.insert(0, str(current_path.parent))"
   ]
  },
  {
   "cell_type": "code",
   "execution_count": 3,
   "metadata": {},
   "outputs": [],
   "source": [
    "from models.model_v4_vae import Model_v4_VAE\n",
    "import yaml\n",
    "\n",
    "def load_config(file):\n",
    "    with open(file, 'r') as f:\n",
    "        config = yaml.load(f, Loader=yaml.FullLoader)\n",
    "\n",
    "    assert (config['feature_noise_power'] is None) == (\n",
    "        config['feature_noise_decay'] is None\n",
    "    ), 'Noise power and decay must be both provided'\n",
    "\n",
    "    if 'lr_disc' not in config:\n",
    "        config['lr_disc'] = config['lr']\n",
    "    if 'lr_gen' not in config:\n",
    "        config['lr_gen'] = config['lr']\n",
    "    if 'lr_schedule_rate_disc' not in config:\n",
    "        config['lr_schedule_rate_disc'] = config['lr_schedule_rate']\n",
    "    if 'lr_schedule_rate_gen' not in config:\n",
    "        config['lr_schedule_rate_gen'] = config['lr_schedule_rate']\n",
    "\n",
    "    return config"
   ]
  },
  {
   "cell_type": "code",
   "execution_count": 4,
   "metadata": {},
   "outputs": [
    {
     "name": "stderr",
     "output_type": "stream",
     "text": [
      "2022-02-07 15:52:59.782038: I tensorflow/core/platform/cpu_feature_guard.cc:151] This TensorFlow binary is optimized with oneAPI Deep Neural Network Library (oneDNN) to use the following CPU instructions in performance-critical operations:  AVX2 FMA\n",
      "To enable them in other operations, rebuild TensorFlow with the appropriate compiler flags.\n"
     ]
    }
   ],
   "source": [
    "model_path = current_path.parent.joinpath(\"saved_models\", \"test1\")\n",
    "config = load_config(\"/Users/tagirrakipov/Desktop/Thesis/TPC-FastSim/models/configs_vae/baseline_fc_8x16_kinked.yaml\")\n",
    "decoder = Model_v4_VAE(config)\n",
    "features = [41,33,7.695,-8.695,32.201,35.936,41.844]"
   ]
  },
  {
   "cell_type": "code",
   "execution_count": 6,
   "metadata": {},
   "outputs": [
    {
     "name": "stdout",
     "output_type": "stream",
     "text": [
      "Loading dec weights from /Users/tagirrakipov/Desktop/Thesis/TPC-FastSim/saved_models/test1/decoder_00400.h5\n"
     ]
    }
   ],
   "source": [
    "decoder.load_decoder(model_path.joinpath('decoder_00400.h5').as_posix())"
   ]
  },
  {
   "cell_type": "code",
   "execution_count": 7,
   "metadata": {},
   "outputs": [],
   "source": [
    "from data import preprocessing"
   ]
  },
  {
   "cell_type": "code",
   "execution_count": 8,
   "metadata": {},
   "outputs": [],
   "source": [
    "import numpy as np\n",
    "from sklearn.model_selection import train_test_split"
   ]
  },
  {
   "cell_type": "code",
   "execution_count": 9,
   "metadata": {},
   "outputs": [],
   "source": [
    "data = preprocessing.read_csv_2d()\n",
    "unscale = lambda x: 10**x - 1\n",
    "\n",
    "_, X_test = train_test_split(data, test_size=0.25, random_state=42)"
   ]
  },
  {
   "cell_type": "code",
   "execution_count": 10,
   "metadata": {},
   "outputs": [],
   "source": [
    "X_gen = unscale(\n",
    "    decoder.make_fake(\n",
    "        np.random.normal(size=(len(X_test), decoder.latent_dim)).astype('float32')\n",
    "    ).numpy()\n",
    ")"
   ]
  },
  {
   "cell_type": "code",
   "execution_count": 11,
   "metadata": {},
   "outputs": [
    {
     "data": {
      "image/png": "[encoded data removed]",
      "text/plain": [
       "<Figure size 1224x432 with 10 Axes>"
      ]
     },
     "metadata": {
      "needs_background": "light"
     },
     "output_type": "display_data"
    }
   ],
   "source": [
    "%matplotlib inline\n",
    "import numpy as np\n",
    "import matplotlib.pyplot as plt\n",
    "rnd_i = np.random.choice(len(X_test), size=5, replace=False)\n",
    "\n",
    "plt.figure(figsize=(17, 6))\n",
    "for i in range(len(rnd_i)):\n",
    "    plt.subplot(2, len(rnd_i), i + 1)\n",
    "    plt.imshow(X_test[rnd_i[i]], extent=(265, 280, 40, 50))\n",
    "    plt.title(\"Real\")\n",
    "    \n",
    "    plt.subplot(2, len(rnd_i), len(rnd_i) + i + 1)\n",
    "    plt.imshow(X_gen[rnd_i[i]], extent=(265, 280, 40, 50))\n",
    "    plt.title(\"Generated\")\n"
   ]
  },
  {
   "cell_type": "code",
   "execution_count": 13,
   "metadata": {},
   "outputs": [],
   "source": [
    "from metrics import get_val_metric, _METRIC_NAMES"
   ]
  },
  {
   "cell_type": "code",
   "execution_count": 14,
   "metadata": {},
   "outputs": [],
   "source": [
    "X_gen_massive = unscale(\n",
    "    generator(\n",
    "        np.random.normal(size=(10000, baseline_10x15.LATENT_DIM)).astype('float32')\n",
    "    ).numpy()\n",
    ")"
   ]
  },
  {
   "cell_type": "code",
   "execution_count": 15,
   "metadata": {},
   "outputs": [],
   "source": [
    "metrics_real = get_val_metric(X_test)\n",
    "metrics_gen  = get_val_metric(np.where(X_gen_massive < 0, 0, X_gen_massive))"
   ]
  },
  {
   "cell_type": "code",
   "execution_count": 17,
   "metadata": {},
   "outputs": [
    {
     "data": {
      "text/plain": [
       "['Mean0', 'Mean1', 'Sigma0^2', 'Sigma1^2', 'Cov01', 'Sum']"
      ]
     },
     "execution_count": 17,
     "metadata": {},
     "output_type": "execute_result"
    }
   ],
   "source": [
    "_METRIC_NAMES"
   ]
  },
  {
   "cell_type": "code",
   "execution_count": 29,
   "metadata": {},
   "outputs": [
    {
     "name": "stdout",
     "output_type": "stream",
     "text": [
      "1.118033988749895\n",
      "1.2909944487358056\n",
      "1.2909944487358056\n"
     ]
    }
   ],
   "source": [
    "a = np.array([1,2,3,4])\n",
    "print(np.std(a))\n",
    "print(np.std(a, ddof=1))\n",
    "print(((a - a.mean())**2).mean()**0.5 * (4/3)**0.5)"
   ]
  },
  {
   "cell_type": "code",
   "execution_count": 42,
   "metadata": {},
   "outputs": [
    {
     "data": {
      "image/png": "[encoded data removed]",
      "text/plain": [
       "<Figure size 432x288 with 1 Axes>"
      ]
     },
     "metadata": {
      "needs_background": "light"
     },
     "output_type": "display_data"
    },
    {
     "data": {
      "image/png": "[encoded data removed]",
      "text/plain": [
       "<Figure size 432x288 with 1 Axes>"
      ]
     },
     "metadata": {
      "needs_background": "light"
     },
     "output_type": "display_data"
    }
   ],
   "source": [
    "mean_padid_real = metrics_real[:,0] + 40\n",
    "mean_padid_gen  = metrics_gen [:,0] + 40\n",
    "\n",
    "mean_time_real = metrics_real[:,1] + 265\n",
    "mean_time_gen  = metrics_gen [:,1] + 265\n",
    "\n",
    "def bootstrap_error(data, function, num_bs=100):\n",
    "    assert data.ndim == 1\n",
    "    bs_data = np.random.choice(data, size=(num_bs, len(data)), replace=True)\n",
    "    return np.array([function(bs_sample) for bs_sample in bs_data]).std()\n",
    "\n",
    "def get_stats(arr):\n",
    "    class Obj:\n",
    "        pass\n",
    "    result = Obj()\n",
    "    \n",
    "    result.mean = arr.mean()\n",
    "    result.width = arr.std()\n",
    "    \n",
    "    result.mean_err = result.width / (len(arr) - 1)**0.5\n",
    "    result.width_err = bootstrap_error(arr, np.std)\n",
    "    \n",
    "    return result\n",
    "\n",
    "def compare_two_dists(d_real, d_gen, label, nbins=100):\n",
    "    fig, ax = plt.subplots()\n",
    "    bins = np.linspace(\n",
    "        min(d_real.min(), d_gen.min()),\n",
    "        max(d_real.max(), d_gen.max()),\n",
    "        nbins + 1\n",
    "    )\n",
    "    \n",
    "    stats_real = get_stats(d_real)\n",
    "    stats_gen  = get_stats(d_gen )\n",
    "    \n",
    "    plt.hist(d_real, bins=bins, density=True, label='real')\n",
    "    plt.hist(d_gen , bins=bins, density=True, label='gen', histtype='step', linewidth=2.)\n",
    "    plt.text(0.47, 0.75, \"real: mean = {:.4f} +/- {:.4f}\".format(stats_real.mean , stats_real.mean_err ), transform=ax.transAxes)\n",
    "    plt.text(0.47, 0.68, \"gen: mean = {:.4f} +/- {:.4f}\".format(stats_gen .mean , stats_gen .mean_err ), transform=ax.transAxes)\n",
    "    plt.text(0.47, 0.55, \"real: std  = {:.4f} +/- {:.4f}\".format(stats_real.width, stats_real.width_err), transform=ax.transAxes)\n",
    "    plt.text(0.47, 0.48, \"gen: std  = {:.4f} +/- {:.4f}\".format(stats_gen .width, stats_gen .width_err), transform=ax.transAxes)\n",
    "    plt.xlabel(label)\n",
    "    plt.legend()\n",
    "    return fig\n",
    "\n",
    "compare_two_dists(mean_padid_real, mean_padid_gen, 'pad id')\n",
    "compare_two_dists(mean_time_real , mean_time_gen , 'i time');"
   ]
  }
 ],
 "metadata": {
  "kernelspec": {
   "display_name": "Python 3",
   "language": "python",
   "name": "python3"
  },
  "language_info": {
   "codemirror_mode": {
    "name": "ipython",
    "version": 3
   },
   "file_extension": ".py",
   "mimetype": "text/x-python",
   "name": "python",
   "nbconvert_exporter": "python",
   "pygments_lexer": "ipython3",
   "version": "3.8.2"
  }
 },
 "nbformat": 4,
 "nbformat_minor": 4
}
